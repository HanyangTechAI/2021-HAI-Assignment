{
 "cells": [
  {
   "cell_type": "markdown",
   "metadata": {},
   "source": [
    "# Lec 04. Logistic Regression #"
   ]
  },
  {
   "cell_type": "markdown",
   "metadata": {},
   "source": [
    "## Assignment 04. Softmax Classification in MNIST ##\n",
    "\n",
    "### Review ###  \n",
    "\n",
    "**모델(Model)** : Logistic Function(Sigmoid Function) and Softmax Function\n",
    "$$y=\\frac{1}{1+e^-(Wx+b)}$$  \n",
    "우리가 Logistic Regression, 즉 Binary Classification 문제에서 사용하는 Model, 또는 가설(Hypothesis)는 위와 같았습니다.  \n",
    "방금 수업때에도 언급되었듯이, Linear Regression에서는 값 그 자체를 추정하는 문제였다면,  \n",
    "Logistic Regression에서는 값 그 자체를 추정하는 것이 아닌, **그 값이 나올 확률**을 추정하는 문제가 됩니다.  \n",
    "위 모델의 Function을 **Sigmoid Function**이라 부르고, Bayes Rule을 통해 식을 정리하였을 때 값이 나올 확률(posterior)이 Sigmoid Function으로 정리되었습니다.  \n",
    "\n",
    "$$y_i=\\frac{e^{W_i+b_i}}{\\sum_je^{W_j+b_j}}$$  \n",
    "Logistic Regression이 Binary Classification에서 사용하는 Model이었다면, 여러개의 클래스로 분류하는 Multi-Class Classification에서는 위와 같은 식을 사용합니다.  \n",
    "이 식 역시 확률값을 Bayes Rule을 통해서 정리하면서 도출된 식이었습니다.  \n",
    "위 Function을 **Softmax Function**이라 부르고, 각 클래스의 확률들의 합을 1로 만들어주는 Normalization의 역할을 한다고 볼 수 있습니다.  \n",
    "\n",
    "**모수(Parameter)** : W, b  \n",
    "모델은 결정하였으니, 주어진 데이터에 가장 잘 맞는 모델의 파라메터를 결정할 필요가 있습니다.  \n",
    "Logistic Regression에서는 Linear Regression과 마찬가지로 Sigmoid Function의 지수항에 올려져있는 W와 b를 추정하게 됩니다.  \n",
    "Gradient Descent와 같은 학습 알고리즘을 통해서 가장 최적의(Optimal) Parameter를 찾을 수 있습니다.\n",
    "\n",
    "**오차 함수(Error Function)** : Cross Entropy  \n",
    "$$L = -\\sum_i \\hat{y}_ilog(y_i)$$  \n",
    "수업을 잠시 되짚어보면 MSE를 Classification 문제에 활용하였을때는 하나의 Optimal Point를 가지지 않기 때문에 모델이 최적의 해를 찾을 수 없다는 단점이 있었습니다. 따라서 새로운 Loss Function을 찾아볼 필요가 있었고, Maximum Likelihood Estimation의 식으로부터 Cross Entropy를 유도해낼 수 있었습니다."
   ]
  },
  {
   "cell_type": "markdown",
   "metadata": {},
   "source": [
    "### MNIST Dataset ###\n",
    "눈에 잘 안보이는 Iris Dataset은 했으니, 이제 새로운 데이터셋에 대해서 학습을 해볼게요!  \n",
    "MNIST라고 불리는 데이터셋은 손글씨들을 모아놓은 데이터셋입니다.  \n",
    "그중에서도, 0부터 9까지 Digits를 직접 손으로 쓴 데이터셋을 가지고 있습니다.  \n",
    "\n",
    "MNIST는 인공지능, 그중에서도 컴퓨터 비젼 연구의 권위자인 LeCun 교수님이 만든 데이터셋이며,  \n",
    "딥러닝계의 Hello World!와도 같은 데이터셋입니다.  \n",
    "\n",
    "MNIST는 [28x28]의 고정 크기 이미지로 되어있으며, 각 글자가 중심에 배치되어 있습니다.  \n",
    "총 6만개의 Training Set과 1만개의 Test Set으로 나누어져 있습니다.  \n",
    "\n",
    "MNIST Dataset은 매우 많이 쓰이는 Dataset이라서, PyTorch의 `torchvision` 라이브러리에서 쉽게 `Dataset` 형태로 제공합니다.  \n",
    "그러면, 직접 한번 어떻게 생겼는지 볼게요!"
   ]
  },
  {
   "cell_type": "code",
   "execution_count": 1,
   "metadata": {},
   "outputs": [],
   "source": [
    "import torch\n",
    "import torch.nn as nn\n",
    "import torch.utils.data as data\n",
    "import torch.optim as optim\n",
    "import torchvision\n",
    "import torchvision.datasets as dsets\n",
    "import torchvision.transforms as T\n",
    "import matplotlib.pyplot as plt"
   ]
  },
  {
   "cell_type": "code",
   "execution_count": 2,
   "metadata": {},
   "outputs": [
    {
     "name": "stdout",
     "output_type": "stream",
     "text": [
      "training data:  60000\n",
      "test data:  10000\n"
     ]
    }
   ],
   "source": [
    "# Issue : https://github.com/pytorch/vision/issues/1938\n",
    "# 이 아래 내용을 꼭 써주셔야합니다.\n",
    "from six.moves import urllib\n",
    "opener = urllib.request.build_opener()\n",
    "opener.addheaders = [('User-agent', 'Mozilla/5.0')]\n",
    "urllib.request.install_opener(opener)\n",
    "\n",
    "# MNIST는 아래와 같이 Dataset을 불러올 수 있습니다.\n",
    "train_data = dsets.MNIST(root='data/', train=True, transform=T.ToTensor(), download=True)\n",
    "test_data  = dsets.MNIST(root='data/', train=False, transform=T.ToTensor(), download=True)\n",
    "print('training data: ', len(train_data))\n",
    "print('test data: ', len(test_data))"
   ]
  },
  {
   "cell_type": "code",
   "execution_count": 3,
   "metadata": {},
   "outputs": [
    {
     "data": {
      "text/plain": [
       "<matplotlib.image.AxesImage at 0x7fb29804fc90>"
      ]
     },
     "execution_count": 3,
     "metadata": {},
     "output_type": "execute_result"
    },
    {
     "data": {
      "image/png": "[encoded data removed]",
      "text/plain": [
       "<Figure size 432x288 with 1 Axes>"
      ]
     },
     "metadata": {
      "needs_background": "light"
     },
     "output_type": "display_data"
    }
   ],
   "source": [
    "image = train_data[0][0].detach().numpy().squeeze()\n",
    "plt.imshow(image)"
   ]
  },
  {
   "cell_type": "markdown",
   "metadata": {},
   "source": [
    "손글씨가 잘 보이시나요?  \n",
    "이러한 이미지 데이터셋은 2차원 Array의 형태로 구성되어 있습니다.  \n",
    "앞서 설명하였듯이, 28x28의 2차원 Array로 구성되어 있죠!  \n",
    "하지만, 이제 이 데이터를 Logistic Regression하기 전에, 우리는 아직 1차원 데이터에 대해서만 학습하는것을 배웠습니다!  \n",
    "그래서 한줄로 펴줄 필요가 있겠죠.  \n",
    "2차원 Array는 PyTorch에서 아래와 같이 펴줄 수 있습니다.\n",
    "```python\n",
    "torch_tensor.view(-1, 28*28)\n",
    "```"
   ]
  },
  {
   "cell_type": "code",
   "execution_count": 4,
   "metadata": {},
   "outputs": [
    {
     "name": "stdout",
     "output_type": "stream",
     "text": [
      "Before Flatten: torch.Size([28, 28])\n",
      "After Flatten: torch.Size([1, 784])\n"
     ]
    }
   ],
   "source": [
    "image_tensor = torch.Tensor(image)\n",
    "print(\"Before Flatten:\", image_tensor.shape)\n",
    "\n",
    "flatten_tensor = image_tensor.view(-1, 28*28)\n",
    "print(\"After Flatten:\", flatten_tensor.shape)"
   ]
  },
  {
   "cell_type": "markdown",
   "metadata": {},
   "source": [
    "## 과제 명세\n",
    "MNIST Dataset을 회합때 배웠던 Softmax Regression을 통해 분류해보아요!    \n",
    "모델 `MNISTModel`과 함수 `train(model)`의 내용을 수업때의 자료를 참고하여 만들어주시면 됩니다.\n",
    "- train(model)은 MNISTModel객체를 인자로 받습니다.  \n",
    "- 모델이나 학습코드는 자유롭게 변형하셔도 좋습니다."
   ]
  },
  {
   "cell_type": "markdown",
   "metadata": {},
   "source": [
    "## 여기 아래부터 코드를 작성해주세요!"
   ]
  },
  {
   "cell_type": "code",
   "execution_count": 5,
   "metadata": {},
   "outputs": [],
   "source": [
    "############### 이 부분을 작성하여 메일로 보내주세요. ###############\n",
    "\n",
    "class MNISTModel(nn.Module):\n",
    "    def __init__(self):\n",
    "        super(MNISTModel, self).__init__()\n",
    "        ###### 필요한 내용을 채워주세요!! ######\n",
    "        \n",
    "        \n",
    "        \n",
    "        \n",
    "        ###### 필요한 내용을 채워주세요!! ######\n",
    "        \n",
    "    def forward(self, x):\n",
    "        ###### 필요한 내용을 채워주세요!! ######\n",
    "        \n",
    "        \n",
    "        \n",
    "        \n",
    "        ###### 필요한 내용을 채워주세요!! ######\n",
    "        return x\n",
    "    \n",
    "\n",
    "def train(model):\n",
    "    train_data = dsets.MNIST(root='data/',\n",
    "                             download=True,\n",
    "                             train=True,\n",
    "                             transform=T.ToTensor())\n",
    "    test_data = dsets.MNIST(root='data/',\n",
    "                            download=True,\n",
    "                            train=False,\n",
    "                            transform=T.ToTensor())\n",
    "    \n",
    "    train_loader = data.DataLoader(train_data, shuffle=True, batch_size=32)\n",
    "    test_loader = data.DataLoader(test_data, shuffle=False)\n",
    "    \n",
    "    optimizer = optim.Adam(model.parameters(), lr=0.001)\n",
    "    criterion = nn.CrossEntropyLoss()\n",
    "    \n",
    "    device = 'cuda' if torch.cuda.is_available() else 'cpu'\n",
    "    model = model.to(device)\n",
    "    losses = []\n",
    "    \n",
    "    n_epoch = 20\n",
    "    for epoch in range(n_epoch):\n",
    "        epoch_loss = 0\n",
    "        ###### 필요한 내용을 채워주세요!! ######\n",
    "        \n",
    "        \n",
    "        \n",
    "        \n",
    "        ###### 필요한 내용을 채워주세요!! ######\n",
    "        print('EPOCH[{current}|{total}] loss: {loss:.2f}'.format(\n",
    "            current=epoch+1,\n",
    "            total=n_epoch,\n",
    "            loss=epoch_loss\n",
    "        ))\n",
    "    \n",
    "############### 이 부분을 작성하여 메일로 보내주세요. ###############"
   ]
  },
  {
   "cell_type": "markdown",
   "metadata": {},
   "source": [
    "## Testing\n",
    "아래 코드로 정확도를 테스트해볼 수 있습니다."
   ]
  },
  {
   "cell_type": "code",
   "execution_count": 6,
   "metadata": {},
   "outputs": [
    {
     "name": "stdout",
     "output_type": "stream",
     "text": [
      "Accuracy: 0.0\n"
     ]
    }
   ],
   "source": [
    "# Your Model\n",
    "device = 'cuda' if torch.cuda.is_available() else 'cpu'\n",
    "model = MNISTModel()\n",
    "model = model.to(device)\n",
    "\n",
    "# Test the model using test sets\n",
    "test_data = dsets.MNIST(root='data/',\n",
    "                        download=True,\n",
    "                        train=False,\n",
    "                        transform=T.ToTensor())\n",
    "\n",
    "\n",
    "with torch.no_grad():\n",
    "    X_test = test_data.data.view(-1, 28 * 28).float().to(device)\n",
    "    Y_test = test_data.targets.to(device)\n",
    "\n",
    "    prediction = model(X_test)\n",
    "    correct_prediction = torch.argmax(prediction, 1) == Y_test\n",
    "    accuracy = correct_prediction.float().mean()\n",
    "    print('Accuracy:', accuracy.item())"
   ]
  }
 ],
 "metadata": {
  "kernelspec": {
   "display_name": "Python 3",
   "language": "python",
   "name": "python3"
  },
  "language_info": {
   "codemirror_mode": {
    "name": "ipython",
    "version": 3
   },
   "file_extension": ".py",
   "mimetype": "text/x-python",
   "name": "python",
   "nbconvert_exporter": "python",
   "pygments_lexer": "ipython3",
   "version": "3.7.7"
  }
 },
 "nbformat": 4,
 "nbformat_minor": 4
}
