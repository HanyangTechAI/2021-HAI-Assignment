{
 "cells": [
  {
   "cell_type": "markdown",
   "metadata": {},
   "source": [
    "# Lec 05. Multi Layer Perceptron #"
   ]
  },
  {
   "cell_type": "markdown",
   "metadata": {},
   "source": [
    "## Assignment 05. MLP in MNIST ##\n",
    "\n",
    "### Review ###  \n",
    "\n",
    "**모델(Model)**\n",
    "$y = h(W_2h(W_1x + b_1) + b_2)$  \n",
    "-> Model은 Weight Vector W와 bias vector b를 더한 뒤, Activation함수를 거치고, 이를 여려겹 쌓은 것.  \n",
    "\n",
    "**모수(Parameter)**  \n",
    "$W_1$, $W_2$, $b_1$, $b_2$ : Vectors of Weights and Bias\n",
    "\n",
    "**오차 함수(Error Function)**  \n",
    "Regression : MSE, $L = \\frac{1}{N}\\sum_{k=1}^N (y - \\hat{y})^2$  \n",
    "Classification : Cross Entropy : $L = -\\sum_i \\hat{y}_ilog(y_i)$  \n",
    "\n",
    "**학습 알고리즘(Learning Algorithm)**  \n",
    "Gradient Descent and Error Back Propagation  \n",
    "- 출력단의 Error를 앞쪽 Layer로 전파(Propagate)하며, Gradient가 감소하는 방향으로 Weight를 Update"
   ]
  },
  {
   "cell_type": "markdown",
   "metadata": {},
   "source": [
    "### MNIST Dataset ###\n",
    "지난번에 사용했던 MNIST Dataset을 다시 불러올게요!"
   ]
  },
  {
   "cell_type": "code",
   "execution_count": 1,
   "metadata": {},
   "outputs": [],
   "source": [
    "import torch\n",
    "import torch.nn as nn\n",
    "import torch.utils.data as data\n",
    "import torch.optim as optim\n",
    "import torchvision\n",
    "import torchvision.datasets as dsets\n",
    "import torchvision.transforms as T\n",
    "import matplotlib.pyplot as plt"
   ]
  },
  {
   "cell_type": "code",
   "execution_count": null,
   "metadata": {},
   "outputs": [
    {
     "name": "stdout",
     "output_type": "stream",
     "text": [
      "Downloading http://yann.lecun.com/exdb/mnist/train-images-idx3-ubyte.gz to data/MNIST/raw/train-images-idx3-ubyte.gz\n"
     ]
    },
    {
     "data": {
      "application/vnd.jupyter.widget-view+json": {
       "model_id": "c24782e0f09b4f739b2d1ee7d93ff8a7",
       "version_major": 2,
       "version_minor": 0
      },
      "text/plain": [
       "HBox(children=(FloatProgress(value=1.0, bar_style='info', layout=Layout(width='20px'), max=1.0), HTML(value=''…"
      ]
     },
     "metadata": {},
     "output_type": "display_data"
    }
   ],
   "source": [
    "# Issue : https://github.com/pytorch/vision/issues/1938\n",
    "# 이 아래 내용을 꼭 써주셔야합니다.\n",
    "from six.moves import urllib\n",
    "opener = urllib.request.build_opener()\n",
    "opener.addheaders = [('User-agent', 'Mozilla/5.0')]\n",
    "urllib.request.install_opener(opener)\n",
    "\n",
    "# MNIST는 아래와 같이 Dataset을 불러올 수 있습니다.\n",
    "train_data = dsets.MNIST(root='data/', train=True, transform=T.ToTensor(), download=True)\n",
    "test_data  = dsets.MNIST(root='data/', train=False, transform=T.ToTensor(), download=True)\n",
    "print('training data: ', len(train_data))\n",
    "print('test data: ', len(test_data))"
   ]
  },
  {
   "cell_type": "code",
   "execution_count": null,
   "metadata": {},
   "outputs": [],
   "source": [
    "image = train_data[0][0].detach().numpy().squeeze()\n",
    "plt.imshow(image)"
   ]
  },
  {
   "cell_type": "markdown",
   "metadata": {},
   "source": [
    "다시 한번 언급하자면, 2차원 데이터는 다음과 같이 펴줄 수 있었습니다.\n",
    "```python\n",
    "torch_tensor.view(-1, 28*28)\n",
    "```"
   ]
  },
  {
   "cell_type": "code",
   "execution_count": 4,
   "metadata": {},
   "outputs": [
    {
     "name": "stdout",
     "output_type": "stream",
     "text": [
      "Before Flatten: torch.Size([28, 28])\n",
      "After Flatten: torch.Size([1, 784])\n"
     ]
    }
   ],
   "source": [
    "image_tensor = torch.Tensor(image)\n",
    "print(\"Before Flatten:\", image_tensor.shape)\n",
    "\n",
    "flatten_tensor = image_tensor.view(-1, 28*28)\n",
    "print(\"After Flatten:\", flatten_tensor.shape)"
   ]
  },
  {
   "cell_type": "markdown",
   "metadata": {},
   "source": [
    "## 과제 명세\n",
    "MNIST Dataset을 회합때 배웠던 MLP을 통해 분류해보아요!    \n",
    "모델 `MNISTModel`과 함수 `train(model)`의 내용을 수업때의 자료를 참고하여 만들어주시면 됩니다.\n",
    "- train(model)은 MNISTModel객체를 인자로 받습니다.  \n",
    "- 모델이나 학습코드는 자유롭게 변형하셔도 좋습니다."
   ]
  },
  {
   "cell_type": "markdown",
   "metadata": {},
   "source": [
    "## 여기 아래부터 코드를 작성해주세요!"
   ]
  },
  {
   "cell_type": "code",
   "execution_count": 5,
   "metadata": {},
   "outputs": [],
   "source": [
    "############### 이 부분을 작성하여 메일로 보내주세요. ###############\n",
    "\n",
    "class MNISTModel(nn.Module):\n",
    "    def __init__(self):\n",
    "        super(MNISTModel, self).__init__()\n",
    "        ###### 필요한 내용을 채워주세요!! ######\n",
    "        \n",
    "        \n",
    "        \n",
    "        \n",
    "        ###### 필요한 내용을 채워주세요!! ######\n",
    "        \n",
    "    def forward(self, x):\n",
    "        ###### 필요한 내용을 채워주세요!! ######\n",
    "        \n",
    "        \n",
    "        \n",
    "        \n",
    "        ###### 필요한 내용을 채워주세요!! ######\n",
    "        return x\n",
    "    \n",
    "\n",
    "def train(model):\n",
    "    train_data = dsets.MNIST(root='data/',\n",
    "                             download=True,\n",
    "                             train=True,\n",
    "                             transform=T.ToTensor())\n",
    "    test_data = dsets.MNIST(root='data/',\n",
    "                            download=True,\n",
    "                            train=False,\n",
    "                            transform=T.ToTensor())\n",
    "    \n",
    "    train_loader = data.DataLoader(train_data, shuffle=True, batch_size=32)\n",
    "    test_loader = data.DataLoader(test_data, shuffle=False)\n",
    "    \n",
    "    optimizer = optim.Adam(model.parameters(), lr=0.001)\n",
    "    criterion = nn.CrossEntropyLoss()\n",
    "    \n",
    "    device = 'cuda' if torch.cuda.is_available() else 'cpu'\n",
    "    model = model.to(device)\n",
    "    losses = []\n",
    "    \n",
    "    n_epoch = 20\n",
    "    for epoch in range(n_epoch):\n",
    "        epoch_loss = 0\n",
    "        ###### 필요한 내용을 채워주세요!! ######\n",
    "        \n",
    "        \n",
    "        \n",
    "        \n",
    "        ###### 필요한 내용을 채워주세요!! ######\n",
    "        print('EPOCH[{current}|{total}] loss: {loss:.2f}'.format(\n",
    "            current=epoch+1,\n",
    "            total=n_epoch,\n",
    "            loss=epoch_loss\n",
    "        ))\n",
    "    \n",
    "############### 이 부분을 작성하여 메일로 보내주세요. ###############"
   ]
  },
  {
   "cell_type": "markdown",
   "metadata": {},
   "source": [
    "## Testing\n",
    "아래 코드로 정확도를 테스트해볼 수 있습니다."
   ]
  },
  {
   "cell_type": "code",
   "execution_count": 6,
   "metadata": {},
   "outputs": [
    {
     "name": "stdout",
     "output_type": "stream",
     "text": [
      "Accuracy: 0.0\n"
     ]
    }
   ],
   "source": [
    "# Your Model\n",
    "device = 'cuda' if torch.cuda.is_available() else 'cpu'\n",
    "model = MNISTModel()\n",
    "model = model.to(device)\n",
    "\n",
    "# Test the model using test sets\n",
    "test_data = dsets.MNIST(root='data/',\n",
    "                        download=True,\n",
    "                        train=False,\n",
    "                        transform=T.ToTensor())\n",
    "\n",
    "\n",
    "with torch.no_grad():\n",
    "    X_test = test_data.data.view(-1, 28 * 28).float().to(device)\n",
    "    Y_test = test_data.targets.to(device)\n",
    "\n",
    "    prediction = model(X_test)\n",
    "    correct_prediction = torch.argmax(prediction, 1) == Y_test\n",
    "    accuracy = correct_prediction.float().mean()\n",
    "    print('Accuracy:', accuracy.item())"
   ]
  }
 ],
 "metadata": {
  "kernelspec": {
   "display_name": "Python 3",
   "language": "python",
   "name": "python3"
  },
  "language_info": {
   "codemirror_mode": {
    "name": "ipython",
    "version": 3
   },
   "file_extension": ".py",
   "mimetype": "text/x-python",
   "name": "python",
   "nbconvert_exporter": "python",
   "pygments_lexer": "ipython3",
   "version": "3.7.7"
  }
 },
 "nbformat": 4,
 "nbformat_minor": 4
}
