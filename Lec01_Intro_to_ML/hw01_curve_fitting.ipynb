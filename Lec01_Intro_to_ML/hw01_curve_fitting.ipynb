{
 "cells": [
  {
   "cell_type": "markdown",
   "metadata": {},
   "source": [
    "# Lec 01. Intro to Machine Learning #"
   ]
  },
  {
   "cell_type": "code",
   "execution_count": 1,
   "metadata": {},
   "outputs": [],
   "source": [
    "# 먼저 matplotlib 이라는 visualization 라이브러리를 import 해볼게요.\n",
    "import matplotlib.pyplot as plt\n",
    "import numpy as np\n",
    "import imageio\n",
    "import os\n",
    "from tqdm import tqdm\n",
    "%matplotlib inline"
   ]
  },
  {
   "cell_type": "code",
   "execution_count": 2,
   "metadata": {},
   "outputs": [],
   "source": [
    "# 그래프를 그려봐요!\n",
    "def plot(X, Y, Y_est=None):\n",
    "    plt.scatter(X, Y)\n",
    "    plt.xlabel('X')\n",
    "    plt.ylabel('Y')\n",
    "    \n",
    "    if Y_est != None:        \n",
    "        plt.plot(X, Y_est, 'b--')\n",
    "    \n",
    "    plt.show()"
   ]
  },
  {
   "cell_type": "markdown",
   "metadata": {},
   "source": [
    "## Assignment 01. Curve Fitting ##\n",
    "\n",
    "### Review of Lecture ###\n",
    "\n",
    "회합은 잘 마치셨나요? 이번 시간에 배웠던 내용들을 되짚어봅시다.  \n",
    "\n",
    "**모델(Model)** : 데이터를 설명하기 위한 일종의 가설 (ex: $y={Wx+b}$)  \n",
    "**모수(Parameter)** : 모델에서 바뀔 수 있는 변수(Variable) (ex: $W$, $b$)  \n",
    "**오차 함수(Error Function)** : 실제 값과 모델이 예측한 값의 차이를 계산한 함수 (ex: MSE[Mean Squared Error] $E = {{1 \\over 2}{\\sum_{k=1}^N (y_k - t_k)^2}}$)  \n",
    "**학습 알고리즘** : 주어진 모델과 오차 함수를 바탕으로 모델이 가장 최적(Optimal)한 모수(Parameter)를 찾을 수 있도록 학습시키는 알고리즘.  \n",
    "**Simple Weight Optimization**\n",
    "- gradient = 1\n",
    "- 반복\n",
    "  - w를 gradient가 1이면 -0.1, gradient가 -1이면 +0.1을 더한다.\n",
    "  - 만약 Loss가 이전보다 커지면 gradient = 1 작아지면 gradient = -1로 Update  \n",
    "\n",
    "### Assignment ###\n",
    "자, Line Fitting은 해보았으니, 이제 Curve Fitting을 해볼게요.  \n",
    "Curve Fitting의 모델은 아래와 같은 다항식(Polynomial)을 Fitting하게 됩니다!  \n",
    "\n",
    "$$ y = w_0 + w_1x^1 + w_2x^2 +\\ ...\\ + w_Dx^D = \\sum^D_{k=0}w_kx^k $$\n",
    "\n",
    "우선 아래와 같은 데이터가 있다고 해볼게요!"
   ]
  },
  {
   "cell_type": "code",
   "execution_count": 3,
   "metadata": {},
   "outputs": [
    {
     "name": "stdout",
     "output_type": "stream",
     "text": [
      "X: [-10.  -9.  -8.  -7.  -6.  -5.  -4.  -3.  -2.  -1.   0.   1.   2.   3.\n",
      "   4.   5.   6.   7.   8.   9.  10.]\n",
      "Y: [100.  84.  70.  58.  48.  40.  34.  30.  28.  28.  30.  34.  40.  48.\n",
      "  58.  70.  84. 100. 118. 138. 160.]\n"
     ]
    },
    {
     "data": {
      "image/png": "[encoded data removed]",
      "text/plain": [
       "<Figure size 432x288 with 1 Axes>"
      ]
     },
     "metadata": {
      "needs_background": "light"
     },
     "output_type": "display_data"
    }
   ],
   "source": [
    "# x값은 0부터 20까지로 설정해볼게요.\n",
    "X = np.array(np.linspace(start=-10, stop=10, num=21))\n",
    "Y = np.array([100.,  84.,  70.,  58.,  48.,\n",
    "              40.,   34.,  30.,  28.,  28., \n",
    "              30.,   34.,  40.,  48.,  58., \n",
    "              70.,   84., 100., 118., 138., 160.])\n",
    "\n",
    "print('X:', X)\n",
    "print('Y:', Y)\n",
    "plot(X, Y)"
   ]
  },
  {
   "cell_type": "markdown",
   "metadata": {},
   "source": [
    "## 과제 명세\n",
    "위에 주어진 데이터를 바탕으로 가장 알맞는 모델을 찾는 코드를 작성해주세요!  \n",
    "함수 fit 안의 내용을 채워주시면 됩니다.\n",
    "- 함수 fit(X,Y)의 입력은 X와 Y, 위에서 주어진 np.array([...])로 한다.\n",
    "- 함수 fit(X,Y)의 출력은 모델의 계수(coefficient)들 역시 np.array([...])로 반환한다.\n",
    "- fit(X, Y)는 parameter들을 차수가 낮은 순서대로 리턴한다.\n",
    "  - ex : x^2 + 5x + 10 -> [10, 5, 1]"
   ]
  },
  {
   "cell_type": "markdown",
   "metadata": {},
   "source": [
    "### Tips"
   ]
  },
  {
   "cell_type": "markdown",
   "metadata": {},
   "source": [
    "> **벡터의 내적** : Python의 numpy에서는 dot를 통해 벡터의 내적이 됩니다!"
   ]
  },
  {
   "cell_type": "code",
   "execution_count": 4,
   "metadata": {},
   "outputs": [
    {
     "name": "stdout",
     "output_type": "stream",
     "text": [
      "[ 3  8 15 16 15]\n",
      "v1벡터와 v2백터의 내적은? : 57\n"
     ]
    }
   ],
   "source": [
    "v1 = np.array([1,2,3,4,5])\n",
    "v2 = np.array([3,4,5,4,3])\n",
    "\n",
    "print(v1*v2)\n",
    "print(\"v1벡터와 v2백터의 내적은? :\", v1.dot(v2))"
   ]
  },
  {
   "cell_type": "markdown",
   "metadata": {},
   "source": [
    "> **함수 f의 계산** : 주어진 parameters로 구성된 함수 f의 값은 아래와 같이 계산할 수 있습니다."
   ]
  },
  {
   "cell_type": "code",
   "execution_count": 5,
   "metadata": {},
   "outputs": [
    {
     "name": "stdout",
     "output_type": "stream",
     "text": [
      "f(x) = 4x^3 + 3x^2 + 2x^1 + 1\n",
      "f(3) = 142\n"
     ]
    }
   ],
   "source": [
    "def f(parameters, x):\n",
    "    res = 0\n",
    "    for i in range(len(parameters)):\n",
    "        res += parameters[i] * (x ** i)\n",
    "    return res\n",
    "\n",
    "################ Test ################\n",
    "params = [1, 2, 3, 4]\n",
    "print(\"f(x) = \", end='')\n",
    "for i in range(len(params)-1, -1, -1):\n",
    "    if i>0:\n",
    "        print(\"{}x^{} + \".format(params[i], i), end='')\n",
    "    else:\n",
    "        print(params[i])\n",
    "print(\"f(3) =\",f(params, 3))\n",
    "######################################"
   ]
  },
  {
   "cell_type": "markdown",
   "metadata": {},
   "source": [
    "> **Algorithm** : 지난번엔 정말 간단한 알고리즘을 드렸지만, 이번 문제에 적용하면 잘 안될 수도 있습니다! 아래 알고리즘을 고려해보세요."
   ]
  },
  {
   "cell_type": "markdown",
   "metadata": {},
   "source": [
    "- weight vector $W$ = [0, 0, 0, 0, ...]으로 초기화!\n",
    "- 모델 $f(X) =  \\sum^D_{k=0}w_kx^k $\n",
    "- 데이터 $X$, $Y$\n",
    "- 반복 (3000번정도)\n",
    "  - 예측(Predict) : $\\hat Y = f(X)$ \n",
    "  - 에러(Error) 계산 : $e = \\hat Y - Y$\n",
    "  - 업데이트(Update) -> 반복 : j 를 0부터 W의 원소 개수까지 (다항식의 차수)\n",
    "    - $gradient = e \\cdot X^j$ (벡터의 내적 : error vector와 X의 j제곱 벡터를 내적)\n",
    "    - 만약 gradient가 양수면\n",
    "      - gradient -= 0.01\n",
    "    - 만약 gradient가 음수면\n",
    "      - gradient += 0.01"
   ]
  },
  {
   "cell_type": "markdown",
   "metadata": {},
   "source": [
    "> **Plotting** : 아래 코드로 현재 모델의 그래프를 확인할 수 있습니다."
   ]
  },
  {
   "cell_type": "code",
   "execution_count": 6,
   "metadata": {},
   "outputs": [
    {
     "data": {
      "image/png": "[encoded data removed]",
      "text/plain": [
       "<Figure size 432x288 with 1 Axes>"
      ]
     },
     "metadata": {
      "needs_background": "light"
     },
     "output_type": "display_data"
    }
   ],
   "source": [
    "def VisualizeModel(parameters, X, save_idx=None):\n",
    "    T = [ f(parameters, i) for i in X]\n",
    "    plt.clf()\n",
    "    plt.scatter(X, Y)\n",
    "    plt.plot(X, T, 'b--')\n",
    "    plt.xlim(-11, 11)\n",
    "    plt.ylim(0, 170)\n",
    "\n",
    "    if save_idx != None:\n",
    "        if not os.path.exists(\"gifs\"):\n",
    "            os.mkdir(\"gifs\")\n",
    "        plt.savefig(\"gifs/\" + str(save_idx).zfill(5) + \".png\")\n",
    "    else:\n",
    "        plt.show()\n",
    "        \n",
    "VisualizeModel([1., 1., 3.], X, save_idx=0)"
   ]
  },
  {
   "cell_type": "markdown",
   "metadata": {},
   "source": [
    "**save_idx를 지정한다면 아래 코드로 gif로 학습 결과를 보실 수 있습니다!**"
   ]
  },
  {
   "cell_type": "code",
   "execution_count": 7,
   "metadata": {},
   "outputs": [
    {
     "name": "stderr",
     "output_type": "stream",
     "text": [
      "100%|██████████| 1/1 [00:00<00:00, 120.08it/s]\n"
     ]
    }
   ],
   "source": [
    "gifs = os.listdir(\"gifs\")\n",
    "gifs.sort()\n",
    "with imageio.get_writer('train.gif', mode='I') as writer:\n",
    "    for filename in tqdm(gifs):\n",
    "        image = imageio.imread(\"gifs/\"+filename)\n",
    "        writer.append_data(image)"
   ]
  },
  {
   "cell_type": "markdown",
   "metadata": {},
   "source": [
    "## 여기 아래부터 코드를 작성해주세요!"
   ]
  },
  {
   "cell_type": "code",
   "execution_count": 8,
   "metadata": {},
   "outputs": [],
   "source": [
    "############### 이 부분을 작성하여 메일로 보내주세요. ###############\n",
    "\n",
    "def fit(X, Y):\n",
    "    W = np.array([0., 0., 0.])\n",
    "    \n",
    "    # 이 안의 코드를 작성하여 주세요\n",
    "    \n",
    "    return W\n",
    "\n",
    "############### 이 부분을 작성하여 메일로 보내주세요. ###############"
   ]
  }
 ],
 "metadata": {
  "kernelspec": {
   "display_name": "Python 3",
   "language": "python",
   "name": "python3"
  },
  "language_info": {
   "codemirror_mode": {
    "name": "ipython",
    "version": 3
   },
   "file_extension": ".py",
   "mimetype": "text/x-python",
   "name": "python",
   "nbconvert_exporter": "python",
   "pygments_lexer": "ipython3",
   "version": "3.7.7"
  }
 },
 "nbformat": 4,
 "nbformat_minor": 4
}
