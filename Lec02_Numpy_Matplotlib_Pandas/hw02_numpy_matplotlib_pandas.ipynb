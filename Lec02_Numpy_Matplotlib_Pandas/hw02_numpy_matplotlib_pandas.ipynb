{
  "nbformat": 4,
  "nbformat_minor": 0,
  "metadata": {
    "colab": {
      "name": "한양대학교 인공지능 동아리 HAI 2주차 회합 과제.ipynb",
      "provenance": [],
      "collapsed_sections": [],
      "toc_visible": true
    },
    "kernelspec": {
      "name": "python3",
      "display_name": "Python 3"
    }
  },
  "cells": [
    {
      "cell_type": "markdown",
      "metadata": {
        "id": "uPPs4dzyWJp-"
      },
      "source": [
        "# **Numpy**"
      ]
    },
    {
      "cell_type": "markdown",
      "metadata": {
        "id": "H1TOlp0tXUK5"
      },
      "source": [
        "**(과제1-1)**\n",
        "\n",
        "아래에 한 행렬이 주어져 있습니다. 길이가 5인 Identity Matrix를 생성하고**(과제사항1)**, 주어진 행렬과 본인이 만든 Identity Matrix의 곱셈을 수행해봅시다**(과제사항2)**. 어떤 결과가 있는지 확인해보고, Identity Matrix가 갖는 특성을 유추해 봅시다**(과제사항3)**. 주어진 행렬을 조금씩 바꾸어 곱셈 연산을 계속 수행해보셔도 좋습니다."
      ]
    },
    {
      "cell_type": "code",
      "metadata": {
        "id": "SDVK0DBwWEe-"
      },
      "source": [
        "matrix = np.random.rand(5, 5)\n",
        "\n",
        "print(matrix)\n",
        "\n",
        "'''\n",
        "Make an size 5 - identity matrix \"outside\" this part.\n",
        "'''\n",
        "\n",
        "\n",
        "'''\n",
        "Do the multiplication operation for the two matrices \"outside\" this part.\n",
        "'''\n",
        "\n",
        "\n",
        "'''\n",
        "Write briefly your conclusions about the Identity Matrix attributes \"in\" this part.\n",
        "\n",
        "\n",
        "'''"
      ],
      "execution_count": null,
      "outputs": []
    },
    {
      "cell_type": "markdown",
      "metadata": {
        "id": "Wb-6hDwVWKEY"
      },
      "source": [
        "# **Matplotlib**"
      ]
    },
    {
      "cell_type": "markdown",
      "metadata": {
        "id": "IbBDwOtnWYJB"
      },
      "source": [
        "우리는 수업 시간에 몇 가지 자주 쓰이는 Matplotlib의 Plot Style에 대해 공부하였습니다. 그래프나 도표는 데이터를 한눈에 보기 쉽게 정리해주는 것이 일차적인 목표입니다. 즉, 어떠한 데이터가 주어졌을 때 그 데이터의 특성을 가장 잘 반영하면서 직관적인 이해가 가능한 그래프를 만드는 것이 좋습니다."
      ]
    },
    {
      "cell_type": "markdown",
      "metadata": {
        "id": "ej0uVF_AWaOG"
      },
      "source": [
        "**(과제2-1)**\n",
        "\n",
        "아래는 가상의 도수분포표입니다. 이 도수분포표를 시각적으로 가장 잘 표현해줄 수 있을만한 Plot을 그려주세요. 그래프의 제목, 색깔 등 여러가지 요소를 바꾸는 등 형식적인 구애에 최대한 벗어나 과제를 수행하시는 것을 추천합니다."
      ]
    },
    {
      "cell_type": "markdown",
      "metadata": {
        "id": "YTXxfW0pW5mB"
      },
      "source": [
        ""
      ]
    },
    {
      "cell_type": "code",
      "metadata": {
        "id": "Qbl_YWj6WTvs"
      },
      "source": [
        "'''\n",
        "Write you code \"outside\" this part.\n",
        "'''"
      ],
      "execution_count": null,
      "outputs": []
    },
    {
      "cell_type": "markdown",
      "metadata": {
        "id": "0HwINIsHWvTI"
      },
      "source": [
        "**(과제2-2)**\n",
        "\n",
        "아래의 글을 읽고, 적절한 그래프를 디자인해보세요.\n",
        "\n",
        "2016년 한양저널(Hanyang Journal)에서 수행한 설문조사에 따르면, 한양대학교 소속 여학생들은 각기 다른 형태의 신발을 신는 것으로 나타났다. 전체의 절반은 하이힐(Heels)을 신었고, 뒤이어 플랫슈즈(Flat Shoes)가 30%를 차지하였고, 나머지는 기타(Others) 여러 종류의 신발을 신는다고 한다.\n",
        "\n",
        "[출처: Mark Rublik, Hanyang University Professor]"
      ]
    },
    {
      "cell_type": "code",
      "metadata": {
        "id": "urdmip-FWzoY"
      },
      "source": [
        "'''\n",
        "Write you code \"outside\" this part.\n",
        "'''"
      ],
      "execution_count": null,
      "outputs": []
    },
    {
      "cell_type": "markdown",
      "metadata": {
        "id": "n2VGl4OJWT-v"
      },
      "source": [
        "# **Pandas**"
      ]
    },
    {
      "cell_type": "code",
      "metadata": {
        "id": "10eJ2QxjYmG_"
      },
      "source": [
        "# Preparation\n",
        "\n",
        "import pandas as pd\n",
        "\n",
        "# CSV file --> DataFrame object\n",
        "df = pd.read_csv(\"sample_data/california_housing_test.csv\")"
      ],
      "execution_count": null,
      "outputs": []
    },
    {
      "cell_type": "markdown",
      "metadata": {
        "id": "l__zVI_ZY8kw"
      },
      "source": [
        "**(과제3-1)**\n",
        "\n",
        "실습 시간에서는 위도와 경도만 보았고, describe 메소드를 통해 데이터의 요약 통계에는 더 많은 column들이 있는 것처럼 보였습니다. 모든 column을 표시해보세요."
      ]
    },
    {
      "cell_type": "code",
      "metadata": {
        "id": "BCjO38NtZAJR"
      },
      "source": [
        "'''\n",
        "Write you code \"outside\" this part.\n",
        "'''"
      ],
      "execution_count": null,
      "outputs": []
    },
    {
      "cell_type": "markdown",
      "metadata": {
        "id": "JBZ-FzfIY_pT"
      },
      "source": [
        "**(과제3-2)**\n",
        "\n",
        "longitude가 -115 이상인 값이 있는 행만 표시하세요.\n",
        "\n",
        "(*Hint*: Selection )"
      ]
    },
    {
      "cell_type": "code",
      "metadata": {
        "id": "PqNYG-vE6iPQ"
      },
      "source": [
        "'''\n",
        "Write you code \"outside\" this part.\n",
        "'''"
      ],
      "execution_count": null,
      "outputs": []
    },
    {
      "cell_type": "markdown",
      "metadata": {
        "id": "oJeHU0HA6TI1"
      },
      "source": [
        "**(과제3-3)**\n",
        "\n",
        "위에서 추출한 데이터프레임을 새로운 데이터프레임으로 저장하고 그것의 이름을 df_new라 지정하세요. 그 데이터프레임을 다시 csv 파일로 저장할 것입니다. 파일의 이름은 \"my_csv_file.csv\"로 저장해주시면 됩니다."
      ]
    },
    {
      "cell_type": "code",
      "metadata": {
        "id": "MQDX60wn6i-c"
      },
      "source": [
        "'''\n",
        "Write you code \"outside\" this part.\n",
        "'''"
      ],
      "execution_count": null,
      "outputs": []
    }
  ]
}