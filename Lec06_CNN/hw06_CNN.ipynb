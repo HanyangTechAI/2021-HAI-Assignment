{
 "cells": [
  {
   "cell_type": "markdown",
   "metadata": {},
   "source": [
    "# Lec 05. Multi Layer Perceptron #"
   ]
  },
  {
   "cell_type": "markdown",
   "metadata": {},
   "source": [
    "## Assignment 06. CNN in MNIST ##"
   ]
  },
  {
   "cell_type": "markdown",
   "metadata": {},
   "source": [
    "### MNIST Dataset ###"
   ]
  },
  {
   "cell_type": "code",
   "execution_count": 1,
   "metadata": {},
   "outputs": [],
   "source": [
    "import torch\n",
    "import torch.nn as nn\n",
    "import torch.utils.data as data\n",
    "import torch.optim as optim\n",
    "import torchvision\n",
    "import torchvision.datasets as dsets\n",
    "import torchvision.transforms as T\n",
    "import matplotlib.pyplot as plt"
   ]
  },
  {
   "cell_type": "code",
   "execution_count": null,
   "metadata": {},
   "outputs": [
    {
     "name": "stdout",
     "output_type": "stream",
     "text": [
      "Downloading http://yann.lecun.com/exdb/mnist/train-images-idx3-ubyte.gz to data/MNIST/raw/train-images-idx3-ubyte.gz\n"
     ]
    },
    {
     "data": {
      "application/vnd.jupyter.widget-view+json": {
       "model_id": "c24782e0f09b4f739b2d1ee7d93ff8a7",
       "version_major": 2,
       "version_minor": 0
      },
      "text/plain": [
       "HBox(children=(FloatProgress(value=1.0, bar_style='info', layout=Layout(width='20px'), max=1.0), HTML(value=''…"
      ]
     },
     "metadata": {},
     "output_type": "display_data"
    }
   ],
   "source": [
    "# Issue : https://github.com/pytorch/vision/issues/1938\n",
    "# 이 아래 내용을 꼭 써주셔야합니다.\n",
    "from six.moves import urllib\n",
    "opener = urllib.request.build_opener()\n",
    "opener.addheaders = [('User-agent', 'Mozilla/5.0')]\n",
    "urllib.request.install_opener(opener)\n",
    "\n",
    "# MNIST는 아래와 같이 Dataset을 불러올 수 있습니다.\n",
    "train_data = dsets.MNIST(root='data/', train=True, transform=T.ToTensor(), download=True)\n",
    "test_data  = dsets.MNIST(root='data/', train=False, transform=T.ToTensor(), download=True)\n",
    "print('training data: ', len(train_data))\n",
    "print('test data: ', len(test_data))"
   ]
  },
  {
   "cell_type": "code",
   "execution_count": null,
   "metadata": {},
   "outputs": [],
   "source": [
    "image = train_data[0][0].detach().numpy().squeeze()\n",
    "plt.imshow(image)"
   ]
  },
  {
   "cell_type": "markdown",
   "metadata": {},
   "source": [
    "## 과제 명세\n",
    "LeNet(http://yann.lecun.com/exdb/publis/pdf/lecun-98.pdf)을 구현해봅시다.  \n",
    "\n",
    "- Conv2d(in channel:1, out channel: 6, kernel size:5, stride:1)\n",
    "- Tanh Activation\n",
    "- Average Pooling (kernel size 2)\n",
    "- Conv2d(in channel:6, out channel: 16, kernel size:5, stride:1)\n",
    "- Tanh Activation\n",
    "- Average Pooling (kernel size 2)\n",
    "- Conv2d(in channel:16, out channel: 120, kernel size:5, stride:1)\n",
    "- Tanh Activation\n",
    "- Fully Connected (in 120, out 84)\n",
    "- Tanh Activation\n",
    "- Fully Connected (in 84, out 10)"
   ]
  },
  {
   "cell_type": "markdown",
   "metadata": {},
   "source": [
    "## 여기 아래부터 코드를 작성해주세요!"
   ]
  },
  {
   "cell_type": "code",
   "execution_count": 5,
   "metadata": {},
   "outputs": [],
   "source": [
    "############### 이 부분을 작성하여 메일로 보내주세요. ###############\n",
    "\n",
    "class MNISTModel(nn.Module):\n",
    "    def __init__(self):\n",
    "        super(MNISTModel, self).__init__()\n",
    "        ###### 필요한 내용을 채워주세요!! ######\n",
    "        \n",
    "        \n",
    "        \n",
    "        \n",
    "        ###### 필요한 내용을 채워주세요!! ######\n",
    "        \n",
    "    def forward(self, x):\n",
    "        ###### 필요한 내용을 채워주세요!! ######\n",
    "        \n",
    "        \n",
    "        \n",
    "        \n",
    "        ###### 필요한 내용을 채워주세요!! ######\n",
    "        return x\n",
    "    \n",
    "\n",
    "def train(model):\n",
    "    train_data = dsets.MNIST(root='data/',\n",
    "                             download=True,\n",
    "                             train=True,\n",
    "                             transform=T.ToTensor())\n",
    "    test_data = dsets.MNIST(root='data/',\n",
    "                            download=True,\n",
    "                            train=False,\n",
    "                            transform=T.ToTensor())\n",
    "    \n",
    "    train_loader = data.DataLoader(train_data, shuffle=True, batch_size=32)\n",
    "    test_loader = data.DataLoader(test_data, shuffle=False)\n",
    "    \n",
    "    optimizer = optim.Adam(model.parameters(), lr=0.001)\n",
    "    criterion = nn.CrossEntropyLoss()\n",
    "    \n",
    "    device = 'cuda' if torch.cuda.is_available() else 'cpu'\n",
    "    model = model.to(device)\n",
    "    losses = []\n",
    "    \n",
    "    n_epoch = 20\n",
    "    for epoch in range(n_epoch):\n",
    "        epoch_loss = 0\n",
    "        ###### 필요한 내용을 채워주세요!! ######\n",
    "        \n",
    "        \n",
    "        \n",
    "        \n",
    "        ###### 필요한 내용을 채워주세요!! ######\n",
    "        print('EPOCH[{current}|{total}] loss: {loss:.2f}'.format(\n",
    "            current=epoch+1,\n",
    "            total=n_epoch,\n",
    "            loss=epoch_loss\n",
    "        ))\n",
    "    \n",
    "############### 이 부분을 작성하여 메일로 보내주세요. ###############"
   ]
  },
  {
   "cell_type": "markdown",
   "metadata": {},
   "source": [
    "## Testing\n",
    "아래 코드로 정확도를 테스트해볼 수 있습니다."
   ]
  },
  {
   "cell_type": "code",
   "execution_count": 6,
   "metadata": {},
   "outputs": [
    {
     "name": "stdout",
     "output_type": "stream",
     "text": [
      "Accuracy: 0.0\n"
     ]
    }
   ],
   "source": [
    "# Your Model\n",
    "device = 'cuda' if torch.cuda.is_available() else 'cpu'\n",
    "model = MNISTModel()\n",
    "model = model.to(device)\n",
    "\n",
    "# Test the model using test sets\n",
    "test_data = dsets.MNIST(root='data/',\n",
    "                        download=True,\n",
    "                        train=False,\n",
    "                        transform=T.ToTensor())\n",
    "\n",
    "test_loader = data.DataLoader(test_data, shuffle=False, batch_size=10000)\n",
    "with torch.no_grad():\n",
    "    for x, y in test_loader:\n",
    "        x = x.to(device)\n",
    "        y = y.to(device)\n",
    "\n",
    "    prediction = model(x)\n",
    "    correct_prediction = torch.argmax(prediction, 1) == Y_test\n",
    "    accuracy = correct_prediction.float().mean()\n",
    "    print('Accuracy:', accuracy.item())"
   ]
  }
 ],
 "metadata": {
  "kernelspec": {
   "display_name": "Python 3",
   "language": "python",
   "name": "python3"
  },
  "language_info": {
   "codemirror_mode": {
    "name": "ipython",
    "version": 3
   },
   "file_extension": ".py",
   "mimetype": "text/x-python",
   "name": "python",
   "nbconvert_exporter": "python",
   "pygments_lexer": "ipython3",
   "version": "3.7.7"
  }
 },
 "nbformat": 4,
 "nbformat_minor": 4
}
